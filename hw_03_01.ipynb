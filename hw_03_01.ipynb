from datetime import datetime

def get_days_from_today(date):
    selected_date = datetime.strptime(date, '%Y-%m-%d')
    
    today = datetime.today().date()
    
    difference = (today-selected_date.date()).days
    
    return difference

date_str = '2020-10-09'
#test 2
print(get_days_from_today(date_str))
