{
 "cells": [
  {
   "cell_type": "code",
   "execution_count": 1,
   "metadata": {},
   "outputs": [
    {
     "name": "stdout",
     "output_type": "stream",
     "text": [
      "1360\n"
     ]
    }
   ],
   "source": [
    "from datetime import datetime\n",
    "\n",
    "def get_days_from_today(date):\n",
    "    selected_date = datetime.strptime(date, '%Y-%m-%d')\n",
    "    \n",
    "    today = datetime.today().date()\n",
    "    \n",
    "    difference = (today-selected_date.date()).days\n",
    "    \n",
    "    return difference\n",
    "\n",
    "date_str = '2020-10-09'\n",
    "#test 2\n",
    "print(get_days_from_today(date_str))"
   ]
  },
  {
   "cell_type": "code",
   "execution_count": 3,
   "metadata": {},
   "outputs": [
    {
     "name": "stdout",
     "output_type": "stream",
     "text": [
      "[27, 36, 37, 40, 42, 46]\n"
     ]
    }
   ],
   "source": [
    "import random\n",
    "\n",
    "def get_numbers_ticket(min, max, quantity):\n",
    "    if min<1 or max>1000 or quantity > (max - min + 1) or quantity < 1:\n",
    "        return []\n",
    "    \n",
    "    numbers = random.sample(range(min, max + 1), quantity)\n",
    "    \n",
    "    numbers.sort()\n",
    "    \n",
    "    return numbers\n",
    "\n",
    "min_value=1\n",
    "max_value=49\n",
    "quantity=6\n",
    "print(get_numbers_ticket(min_value, max_value, quantity))\n"
   ]
  },
  {
   "cell_type": "code",
   "execution_count": null,
   "metadata": {},
   "outputs": [],
   "source": []
  }
 ],
 "metadata": {
  "kernelspec": {
   "display_name": "Python 3",
   "language": "python",
   "name": "python3"
  },
  "language_info": {
   "codemirror_mode": {
    "name": "ipython",
    "version": 3
   },
   "file_extension": ".py",
   "mimetype": "text/x-python",
   "name": "python",
   "nbconvert_exporter": "python",
   "pygments_lexer": "ipython3",
   "version": "3.11.2"
  }
 },
 "nbformat": 4,
 "nbformat_minor": 2
}
